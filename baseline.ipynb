{
 "cells": [
  {
   "cell_type": "code",
   "execution_count": 1,
   "id": "f78eebf8-d158-484c-8af9-44398800e902",
   "metadata": {},
   "outputs": [],
   "source": [
    "import numpy as np\n",
    "import pandas as pd\n",
    "import matplotlib.pyplot as plt\n",
    "from sklearn.model_selection import train_test_split\n",
    "from sklearn.metrics import roc_auc_score\n",
    "from scipy import signal\n",
    "import torch\n",
    "import torch.nn as nn\n",
    "import torch.optim as optim\n",
    "import torch.nn.functional as F\n",
    "from torch.utils.data import Dataset, DataLoader"
   ]
  },
  {
   "cell_type": "markdown",
   "id": "ab9169e2-23da-4dc1-811d-d8864ecccf21",
   "metadata": {},
   "source": [
    "# **Подготовка данных**"
   ]
  },
  {
   "cell_type": "code",
   "execution_count": 2,
   "id": "582e92d6-9568-4995-b281-7ee801b32816",
   "metadata": {},
   "outputs": [],
   "source": [
    "# Загрузим файлы\n",
    "train = pd.read_csv('data/train.csv')\n",
    "test = pd.read_csv('data/test.csv')"
   ]
  },
  {
   "cell_type": "code",
   "execution_count": 3,
   "id": "8894e9a5-01ca-4c87-a963-72110c7f0a3c",
   "metadata": {
    "scrolled": true
   },
   "outputs": [
    {
     "data": {
      "application/vnd.microsoft.datawrangler.viewer.v0+json": {
       "columns": [
        {
         "name": "index",
         "rawType": "int64",
         "type": "integer"
        },
        {
         "name": "ID",
         "rawType": "object",
         "type": "string"
        },
        {
         "name": "ЛПНП",
         "rawType": "int64",
         "type": "integer"
        }
       ],
       "ref": "e22c7f74-ed7b-4797-b0a7-00e56666ec22",
       "rows": [
        [
         "0",
         "k31__1__1",
         "1"
        ],
        [
         "1",
         "k31__5__5",
         "0"
        ],
        [
         "2",
         "k31__6__6",
         "0"
        ],
        [
         "3",
         "k31__17__17",
         "0"
        ],
        [
         "4",
         "k31__16__16",
         "1"
        ]
       ],
       "shape": {
        "columns": 2,
        "rows": 5
       }
      },
      "text/html": [
       "<div>\n",
       "<style scoped>\n",
       "    .dataframe tbody tr th:only-of-type {\n",
       "        vertical-align: middle;\n",
       "    }\n",
       "\n",
       "    .dataframe tbody tr th {\n",
       "        vertical-align: top;\n",
       "    }\n",
       "\n",
       "    .dataframe thead th {\n",
       "        text-align: right;\n",
       "    }\n",
       "</style>\n",
       "<table border=\"1\" class=\"dataframe\">\n",
       "  <thead>\n",
       "    <tr style=\"text-align: right;\">\n",
       "      <th></th>\n",
       "      <th>ID</th>\n",
       "      <th>ЛПНП</th>\n",
       "    </tr>\n",
       "  </thead>\n",
       "  <tbody>\n",
       "    <tr>\n",
       "      <th>0</th>\n",
       "      <td>k31__1__1</td>\n",
       "      <td>1</td>\n",
       "    </tr>\n",
       "    <tr>\n",
       "      <th>1</th>\n",
       "      <td>k31__5__5</td>\n",
       "      <td>0</td>\n",
       "    </tr>\n",
       "    <tr>\n",
       "      <th>2</th>\n",
       "      <td>k31__6__6</td>\n",
       "      <td>0</td>\n",
       "    </tr>\n",
       "    <tr>\n",
       "      <th>3</th>\n",
       "      <td>k31__17__17</td>\n",
       "      <td>0</td>\n",
       "    </tr>\n",
       "    <tr>\n",
       "      <th>4</th>\n",
       "      <td>k31__16__16</td>\n",
       "      <td>1</td>\n",
       "    </tr>\n",
       "  </tbody>\n",
       "</table>\n",
       "</div>"
      ],
      "text/plain": [
       "            ID  ЛПНП\n",
       "0    k31__1__1     1\n",
       "1    k31__5__5     0\n",
       "2    k31__6__6     0\n",
       "3  k31__17__17     0\n",
       "4  k31__16__16     1"
      ]
     },
     "execution_count": 3,
     "metadata": {},
     "output_type": "execute_result"
    }
   ],
   "source": [
    "# Посмотрим на данные\n",
    "# 'ID' - это название файла с фотоплетизмограммой\n",
    "# 'ЛПНП' - это целевая бинарная переменная (1 - повышенный уровень, 0 - норма)\n",
    "train.head(5)"
   ]
  },
  {
   "cell_type": "code",
   "execution_count": 4,
   "id": "18693715-e7d7-4037-8880-033a13b9cebc",
   "metadata": {},
   "outputs": [
    {
     "data": {
      "application/vnd.microsoft.datawrangler.viewer.v0+json": {
       "columns": [
        {
         "name": "ЛПНП",
         "rawType": "int64",
         "type": "integer"
        },
        {
         "name": "count",
         "rawType": "int64",
         "type": "integer"
        }
       ],
       "ref": "a6bf113e-1a5b-4681-89a3-31555ada8164",
       "rows": [
        [
         "1",
         "330"
        ],
        [
         "0",
         "223"
        ]
       ],
       "shape": {
        "columns": 1,
        "rows": 2
       }
      },
      "text/plain": [
       "ЛПНП\n",
       "1    330\n",
       "0    223\n",
       "Name: count, dtype: int64"
      ]
     },
     "execution_count": 4,
     "metadata": {},
     "output_type": "execute_result"
    }
   ],
   "source": [
    "# Посмотрим на число положительных случаев\n",
    "train['ЛПНП'].value_counts()"
   ]
  },
  {
   "cell_type": "code",
   "execution_count": 5,
   "id": "8000031b-37e6-4fcc-bc66-e248652a3b22",
   "metadata": {},
   "outputs": [
    {
     "data": {
      "text/plain": [
       "[<matplotlib.lines.Line2D at 0x135994fd0>]"
      ]
     },
     "execution_count": 5,
     "metadata": {},
     "output_type": "execute_result"
    },
    {
     "data": {
      "image/png": "[encoded data removed]",
      "text/plain": [
       "<Figure size 1200x400 with 1 Axes>"
      ]
     },
     "metadata": {},
     "output_type": "display_data"
    }
   ],
   "source": [
    "# Загрузим одну из фотоплетизмограмм\n",
    "ind = -300\n",
    "\n",
    "file_id = train.iloc[ind]['ID']\n",
    "ill = train.iloc[ind]['ЛПНП']\n",
    "path = 'data/ppgs/' + file_id + '.npy'\n",
    "ppg = np.load(path)\n",
    "plt.figure(figsize=(12,4))\n",
    "plt.title(label=f\"{ill}\")\n",
    "plt.plot(ppg)"
   ]
  },
  {
   "cell_type": "code",
   "execution_count": 6,
   "id": "26d034de-b911-4065-8eb8-551fd05c057a",
   "metadata": {},
   "outputs": [],
   "source": [
    "# Разделим обучающую выборку на обучающую и валидационную часть\n",
    "train, val = train_test_split(train, test_size=0.2, stratify=train['ЛПНП'], random_state=42)\n",
    "train = train.reset_index(drop=True)\n",
    "val = val.reset_index(drop=True)"
   ]
  },
  {
   "cell_type": "markdown",
   "id": "66f28dbd-79ae-4e9c-94c6-a4a0c88cd74e",
   "metadata": {},
   "source": [
    "# **Создание и обучение модели**"
   ]
  },
  {
   "cell_type": "markdown",
   "id": "cd622c35-fa54-4b82-a3ee-5fda270b026a",
   "metadata": {},
   "source": [
    "Мы будем использовать сверточную нейронную сеть [1], созданную для работы с ЭКГ сигналами, в небольшой модификации. Она заняла первое место на соревновании PhysioNet/CinC Challenge 2021. Для ее корректной работы необходимо, чтобы длина сигнала была кратна 128.\n",
    "\n",
    "[1] Nejedly P. et al. Classification of ECG Using Ensemble of Residual CNNs with Attention Mechanism // 2021 Computing in Cardiology (CinC). IEEE, 2021. P. 1–4. "
   ]
  },
  {
   "cell_type": "code",
   "execution_count": 7,
   "id": "b718c75c-48c1-443f-a49d-5e3f396d3d3a",
   "metadata": {},
   "outputs": [],
   "source": [
    "# Создадим датасет\n",
    "class PPGDataset(Dataset):\n",
    "    def __init__(self, df, target_col='ЛПНП', training=True):\n",
    "        \"\"\"\n",
    "        Параметры:\n",
    "            df (DataFrame): Pandas DataFrame с метаданными\n",
    "            target_col (str): Название колонки с целевой переменной ('ЛПНП')\n",
    "            training (bool): Флаг - тренировочный режим или нет (влияет на возвращаемые значения)\n",
    "        \"\"\"\n",
    "        self.data = df  # DataFrame с метаданными\n",
    "        self.target_col = target_col  # Название колонки с целевой переменной\n",
    "        self.training = training  # Режим работы (обучение / тестирование)\n",
    "        self.fs = 100  # Частота дискретизации PPG сигнала (100 Гц)\n",
    "        \n",
    "    def __len__(self):\n",
    "        return len(self.data)\n",
    "\n",
    "    def __getitem__(self, idx):\n",
    "        \"\"\"\n",
    "        Загрузка и обработка одного образца данных по индексу\n",
    "        \n",
    "        Возвращает:\n",
    "            Для тренировочного режима: (ppg_signal, target)\n",
    "            Для тестового режима: (ppg_signal, file_id)\n",
    "        \"\"\"\n",
    "        # Получаем строку данных по индексу\n",
    "        row = self.data.iloc[idx]\n",
    "        file_id = row['ID']  # Получаем идентификатор файла\n",
    "        \n",
    "        # Загрузка PPG сигнала из файла\n",
    "        path = f'data/ppgs/{file_id}.npy'\n",
    "        ppg = np.load(path)  # Загружаем PPG сигнал\n",
    "        \n",
    "        # Применяем bandpass фильтр (0.8-5 Гц) для удаления шумов\n",
    "        b, a = signal.butter(3, [0.8 / self.fs, 5 / self.fs], 'bandpass')\n",
    "        ppg = signal.filtfilt(b, a, ppg)  \n",
    "        \n",
    "        # Обрезаем сигнал до длины, кратной 128\n",
    "        ppg = ppg[:128*20] \n",
    "        \n",
    "        # Конвертируем в тензор\n",
    "        ppg = torch.tensor(ppg.copy(), dtype=torch.float32).view(1, -1)\n",
    "        \n",
    "        # Для тренировочного режима возвращаем сигнал и целевую переменную\n",
    "        if self.training:\n",
    "            target = torch.tensor(row[self.target_col], dtype=torch.float32)\n",
    "            return {'ppg': ppg, 'target': target}\n",
    "        # Для тестового режима возвращаем сигнал и ID файла\n",
    "        return {'ppg': ppg, 'file_id': file_id}"
   ]
  },
  {
   "cell_type": "code",
   "execution_count": 8,
   "id": "ebe3da4e-ed0a-4d48-81aa-47662dbe336e",
   "metadata": {},
   "outputs": [
    {
     "data": {
      "text/plain": [
       "{'ppg': tensor([[-1.8383, -3.3219, -4.7840,  ..., 69.4044, 73.2407, 76.5227]]),\n",
       " 'target': tensor(0.)}"
      ]
     },
     "execution_count": 8,
     "metadata": {},
     "output_type": "execute_result"
    }
   ],
   "source": [
    "# Проверим работу датасета\n",
    "train_dataset = PPGDataset(train, training=True)\n",
    "train_dataset[0]"
   ]
  },
  {
   "cell_type": "code",
   "execution_count": 9,
   "id": "2ca5b316-dacd-4004-a6a4-0197bebfb0f1",
   "metadata": {
    "jupyter": {
     "source_hidden": true
    }
   },
   "outputs": [],
   "source": [
    "# Используемая нейронная сеть\n",
    "class MyResidualBlock(nn.Module):\n",
    "    def __init__(self, downsample):\n",
    "        super(MyResidualBlock,self).__init__()\n",
    "        self.downsample = downsample\n",
    "        self.stride = 2 if self.downsample else 1\n",
    "        K = 9\n",
    "        P = (K-1)//2\n",
    "        self.conv1 = nn.Conv2d(in_channels=64,\n",
    "                               out_channels=64,\n",
    "                               kernel_size=(1,K),\n",
    "                               stride=(1,self.stride),\n",
    "                               padding=(0,P),\n",
    "                               bias=False)\n",
    "        self.bn1 = nn.BatchNorm2d(64)\n",
    "\n",
    "        self.conv2 = nn.Conv2d(in_channels=64,\n",
    "                               out_channels=64,\n",
    "                               kernel_size=(1,K),\n",
    "                               padding=(0,P),\n",
    "                               bias=False)\n",
    "        self.bn2 = nn.BatchNorm2d(64)\n",
    "\n",
    "        if self.downsample:\n",
    "            self.idfunc_0 = nn.AvgPool2d(kernel_size=(1,2),stride=(1,2))\n",
    "            self.idfunc_1 = nn.Conv2d(in_channels=64,\n",
    "                                      out_channels=64,\n",
    "                                      kernel_size=(1,1),\n",
    "                                      bias=False)\n",
    "    def forward(self, x):\n",
    "        identity = x\n",
    "        x = F.leaky_relu(self.bn1(self.conv1(x)))\n",
    "        x = F.leaky_relu(self.bn2(self.conv2(x)))\n",
    "        if self.downsample:\n",
    "            identity = self.idfunc_0(identity)\n",
    "            identity = self.idfunc_1(identity)\n",
    "\n",
    "        x = x+identity\n",
    "        return x\n",
    "\n",
    "class PPG_NN(nn.Module):\n",
    "    def __init__(self, number_of_classes):\n",
    "        super(PPG_NN, self).__init__()\n",
    "        self.conv = nn.Conv2d(in_channels = 1,\n",
    "                              out_channels = 64,\n",
    "                              kernel_size = (1, 5),\n",
    "                              padding = (0, 2),\n",
    "                              stride = (1, 2),\n",
    "                              bias = False)\n",
    "\n",
    "        self.bn = nn.BatchNorm2d(64)\n",
    "        self.rb_0 = MyResidualBlock(downsample=True)\n",
    "        self.rb_1 = MyResidualBlock(downsample=True)\n",
    "        self.rb_2 = MyResidualBlock(downsample=True)\n",
    "        self.rb_3 = MyResidualBlock(downsample=True)\n",
    "\n",
    "        self.mha = nn.MultiheadAttention(64, 8)\n",
    "        self.pool = nn.AdaptiveMaxPool1d(output_size=1)\n",
    "\n",
    "        self.classifier = nn.Linear(64, number_of_classes)\n",
    "\n",
    "\n",
    "    def forward(self, x):\n",
    "        x = F.leaky_relu(self.bn(self.conv(x[:, :, None, :])))\n",
    "\n",
    "        x = self.rb_0(x)\n",
    "        x = self.rb_1(x)\n",
    "        x = self.rb_2(x)\n",
    "        x = self.rb_3(x)\n",
    "\n",
    "        x = F.dropout(x,p=0.5, training=self.training)\n",
    "\n",
    "        x = x.squeeze(2).permute(2,0,1)\n",
    "        x, s = self.mha(x,x,x)\n",
    "        x = x.permute(1,2,0)\n",
    "        x = self.pool(x).squeeze(2)\n",
    "\n",
    "        x = self.classifier(x)\n",
    "        return x"
   ]
  },
  {
   "cell_type": "code",
   "execution_count": 10,
   "id": "a7305c3b-720c-4d88-9809-640648665f31",
   "metadata": {},
   "outputs": [],
   "source": [
    "# Функция для обучения модели\n",
    "def train_ppg_model(model, train_loader, val_loader, \n",
    "                   optimizer, criterion, epochs, device='cuda'):\n",
    "    \"\"\"\n",
    "    Обучает модель для классификации на основе фотоплетизмограм.\n",
    "    \n",
    "    Параметры:\n",
    "        model (torch.nn.Module): Модель для обучения\n",
    "        train_loader (DataLoader): DataLoader для тренировочных данных\n",
    "        val_loader (DataLoader): DataLoader для валидационных данных\n",
    "        optimizer (torch.optim.Optimizer): Оптимизатор\n",
    "        criterion: Функция потерь\n",
    "        epochs (int): Количество эпох обучения\n",
    "        device (str): Устройство для вычислений ('cuda' или 'cpu')\n",
    "    \n",
    "    Возвращает:\n",
    "        dict: Веса модели с лучшим показателем AUC на валидации\n",
    "    \"\"\"\n",
    "    \n",
    "    # Перемещаем модель на выбранное устройство (GPU/CPU)\n",
    "    model.to(device)\n",
    "    \n",
    "    # Инициализируем переменные для сохранения лучшей модели\n",
    "    best_auc = 0.0\n",
    "    best_model_state = None\n",
    "    \n",
    "    # Начинаем цикл обучения\n",
    "    for epoch in range(epochs):\n",
    "        model.train()  # Переводим модель в режим обучения\n",
    "        train_loss = 0.0\n",
    "        \n",
    "        # Итерация по батчам тренировочных данных\n",
    "        for data in train_loader:\n",
    "            # Получаем PPG сигналы и целевые значения\n",
    "            ppg = data['ppg'].to(device)  \n",
    "            target = data['target'].to(device).float() \n",
    "            \n",
    "            # Обеспечиваем правильную размерность для целевых значений\n",
    "            if target.dim() == 0:\n",
    "                target = target.unsqueeze(0)\n",
    "            \n",
    "            # Обнуляем градиенты\n",
    "            optimizer.zero_grad()\n",
    "            \n",
    "            # Прямой проход\n",
    "            outputs = model(ppg)\n",
    "            \n",
    "            # Приводим выходы модели и целевые значения к одинаковой форме\n",
    "            outputs = outputs.view(-1)\n",
    "            target = target.view(-1)\n",
    "            \n",
    "            # Вычисляем функцию потерь\n",
    "            loss = criterion(outputs, target)\n",
    "            \n",
    "            # Обратный проход (вычисление градиентов)\n",
    "            loss.backward()\n",
    "            \n",
    "            # Шаг оптимизации (обновление весов)\n",
    "            optimizer.step()\n",
    "            \n",
    "            # Суммируем потери (умножаем на размер батча для правильного усреднения)\n",
    "            train_loss += loss.item() * target.size(0)\n",
    "        \n",
    "        # Вычисляем среднюю потерю на эпохе\n",
    "        epoch_loss = train_loss / len(train_loader.dataset)\n",
    "        \n",
    "        # Валидационная фаза\n",
    "        model.eval()  # Переводим модель в режим оценки\n",
    "        val_true, val_pred = [], []  # Для сохранения предсказаний и истинных значений\n",
    "        val_loss = 0.0\n",
    "        \n",
    "        with torch.no_grad():  # Отключаем вычисление градиентов для валидации\n",
    "            for data in val_loader:\n",
    "                ppg = data['ppg'].to(device)\n",
    "                target = data['target'].to(device).float()\n",
    "                \n",
    "                if target.dim() == 0:\n",
    "                    target = target.unsqueeze(0)\n",
    "                \n",
    "                outputs = model(ppg)\n",
    "                outputs = outputs.view(-1)\n",
    "                target = target.view(-1)\n",
    "                \n",
    "                loss = criterion(outputs, target)\n",
    "                val_loss += loss.item() * target.size(0)\n",
    "                \n",
    "                # Сохраняем предсказания (после логистической функции)\n",
    "                val_true.append(target.detach().cpu())\n",
    "                val_pred.append(torch.sigmoid(outputs.detach().cpu()))\n",
    "        \n",
    "        # Объединяем результаты по всем батчам\n",
    "        val_true = torch.cat(val_true)\n",
    "        val_pred = torch.cat(val_pred)\n",
    "        \n",
    "        # Вычисляем ROC AUC\n",
    "        val_auc = roc_auc_score(val_true, val_pred)\n",
    "        val_loss = val_loss / len(val_loader.dataset)\n",
    "        \n",
    "        # Сохраняем лучшую модель\n",
    "        if val_auc > best_auc:\n",
    "            best_auc = val_auc\n",
    "            best_model_state = model.state_dict()\n",
    "        \n",
    "        # Выводим статистику по эпохе\n",
    "        print(f\"Epoch {epoch+1}/{epochs}, \"\n",
    "              f\"Train Loss: {epoch_loss:.4f}, \"\n",
    "              f\"Val Loss: {val_loss:.4f}, \"\n",
    "              f\"Val AUC: {val_auc:.4f}, \"\n",
    "              f\"Best val AUC: {best_auc:.4f}\")\n",
    "\n",
    "    # Возвращаем веса лучшей модели\n",
    "    return best_model_state"
   ]
  },
  {
   "cell_type": "code",
   "execution_count": 11,
   "id": "69d39aa1-7aaf-4ac0-86f7-707e394f72b3",
   "metadata": {},
   "outputs": [
    {
     "name": "stdout",
     "output_type": "stream",
     "text": [
      "Epoch 1/5, Train Loss: 0.6898, Val Loss: 0.6713, Val AUC: 0.6098, Best val AUC: 0.6098\n",
      "Epoch 2/5, Train Loss: 0.6785, Val Loss: 0.6592, Val AUC: 0.6118, Best val AUC: 0.6118\n",
      "Epoch 3/5, Train Loss: 0.6779, Val Loss: 0.6569, Val AUC: 0.6104, Best val AUC: 0.6118\n",
      "Epoch 4/5, Train Loss: 0.6795, Val Loss: 0.6783, Val AUC: 0.4801, Best val AUC: 0.6118\n",
      "Epoch 5/5, Train Loss: 0.6787, Val Loss: 0.6635, Val AUC: 0.5987, Best val AUC: 0.6118\n"
     ]
    }
   ],
   "source": [
    "# Выберем размер батча и число эпох обучения\n",
    "BATCH = 10\n",
    "EPOCHS = 5\n",
    "\n",
    "# Создадим датасеты и даталоадеры\n",
    "train_dataset = PPGDataset(train, training=True)\n",
    "val_dataset = PPGDataset(val, training=True)\n",
    "# Для тестового датасета у нас нет истинных значений предсказываемых классов\n",
    "# поэтому training=False\n",
    "test_dataset = PPGDataset(test, training=False)\n",
    "\n",
    "train_loader = DataLoader(train_dataset, batch_size=BATCH, shuffle=True)\n",
    "val_loader = DataLoader(val_dataset, batch_size=BATCH, shuffle=False)\n",
    "test_loader = DataLoader(test_dataset, batch_size=BATCH, shuffle=False)\n",
    "\n",
    "# Создадим модель, определим функцию потерь и оптимизатор\n",
    "model = PPG_NN(number_of_classes=1)\n",
    "optimizer = torch.optim.AdamW(model.parameters(), lr=0.001)\n",
    "criterion = nn.BCEWithLogitsLoss()\n",
    "device = 'cuda' if torch.cuda.is_available() else 'cpu'\n",
    "\n",
    "# Обучим модель\n",
    "best_model_state = train_ppg_model(model=model, \n",
    "                                   train_loader=train_loader, \n",
    "                                   val_loader=val_loader, \n",
    "                                   optimizer=optimizer, \n",
    "                                   criterion=criterion,\n",
    "                                   epochs=EPOCHS, \n",
    "                                   device=device)"
   ]
  },
  {
   "cell_type": "code",
   "execution_count": 12,
   "id": "14e31d2c-f84a-4735-94e3-7125b70b00aa",
   "metadata": {},
   "outputs": [],
   "source": [
    "# Сделаем предсказания для тестовой выборки\n",
    "model.load_state_dict(best_model_state)\n",
    "model.eval()\n",
    "test_preds = []\n",
    "test_ids = []\n",
    "\n",
    "with torch.no_grad():\n",
    "    for data in test_loader:\n",
    "        ppg = data['ppg'].to(device)\n",
    "        file_id = data['file_id']\n",
    "        outputs = model(ppg).view(-1)\n",
    "        probs = torch.sigmoid(outputs).cpu().numpy()\n",
    "        test_preds.extend(probs)\n",
    "        test_ids.extend(file_id)\n",
    "\n",
    "# Создадим датафрейм\n",
    "result_df = pd.DataFrame({\n",
    "    'ID': test_ids,\n",
    "    'ЛПНП': test_preds\n",
    "})\n",
    "test_predictions = test.merge(result_df, on='ID', how='left')"
   ]
  },
  {
   "cell_type": "code",
   "execution_count": 13,
   "id": "3ccaad10-8a10-4511-917f-116002a5de4e",
   "metadata": {},
   "outputs": [
    {
     "data": {
      "application/vnd.microsoft.datawrangler.viewer.v0+json": {
       "columns": [
        {
         "name": "index",
         "rawType": "int64",
         "type": "integer"
        },
        {
         "name": "ID",
         "rawType": "object",
         "type": "string"
        },
        {
         "name": "ЛПНП",
         "rawType": "float32",
         "type": "float"
        }
       ],
       "ref": "955028d7-f41f-4b96-99be-73095c61eb8c",
       "rows": [
        [
         "0",
         "k31__2__2",
         "0.58769184"
        ],
        [
         "1",
         "k31__0__0",
         "0.58832574"
        ],
        [
         "2",
         "k31__13__13",
         "0.50742567"
        ],
        [
         "3",
         "k31__14__14",
         "0.58655006"
        ],
        [
         "4",
         "k31__25__25",
         "0.612591"
        ]
       ],
       "shape": {
        "columns": 2,
        "rows": 5
       }
      },
      "text/html": [
       "<div>\n",
       "<style scoped>\n",
       "    .dataframe tbody tr th:only-of-type {\n",
       "        vertical-align: middle;\n",
       "    }\n",
       "\n",
       "    .dataframe tbody tr th {\n",
       "        vertical-align: top;\n",
       "    }\n",
       "\n",
       "    .dataframe thead th {\n",
       "        text-align: right;\n",
       "    }\n",
       "</style>\n",
       "<table border=\"1\" class=\"dataframe\">\n",
       "  <thead>\n",
       "    <tr style=\"text-align: right;\">\n",
       "      <th></th>\n",
       "      <th>ID</th>\n",
       "      <th>ЛПНП</th>\n",
       "    </tr>\n",
       "  </thead>\n",
       "  <tbody>\n",
       "    <tr>\n",
       "      <th>0</th>\n",
       "      <td>k31__2__2</td>\n",
       "      <td>0.587692</td>\n",
       "    </tr>\n",
       "    <tr>\n",
       "      <th>1</th>\n",
       "      <td>k31__0__0</td>\n",
       "      <td>0.588326</td>\n",
       "    </tr>\n",
       "    <tr>\n",
       "      <th>2</th>\n",
       "      <td>k31__13__13</td>\n",
       "      <td>0.507426</td>\n",
       "    </tr>\n",
       "    <tr>\n",
       "      <th>3</th>\n",
       "      <td>k31__14__14</td>\n",
       "      <td>0.586550</td>\n",
       "    </tr>\n",
       "    <tr>\n",
       "      <th>4</th>\n",
       "      <td>k31__25__25</td>\n",
       "      <td>0.612591</td>\n",
       "    </tr>\n",
       "  </tbody>\n",
       "</table>\n",
       "</div>"
      ],
      "text/plain": [
       "            ID      ЛПНП\n",
       "0    k31__2__2  0.587692\n",
       "1    k31__0__0  0.588326\n",
       "2  k31__13__13  0.507426\n",
       "3  k31__14__14  0.586550\n",
       "4  k31__25__25  0.612591"
      ]
     },
     "execution_count": 13,
     "metadata": {},
     "output_type": "execute_result"
    }
   ],
   "source": [
    "# Убедимся, что датафрейм с предсказаниями, имеет нужный формат\n",
    "test_predictions.head()"
   ]
  },
  {
   "cell_type": "code",
   "execution_count": 14,
   "id": "e11cfdcf-a1e4-4def-bdc7-e984b752d22f",
   "metadata": {},
   "outputs": [],
   "source": [
    "# Сохраним датафрейм с предсказаниями\n",
    "test_predictions.to_csv('./outputs/baseline_submit.csv', index=False)"
   ]
  },
  {
   "cell_type": "code",
   "execution_count": null,
   "id": "a67f8624",
   "metadata": {},
   "outputs": [],
   "source": []
  }
 ],
 "metadata": {
  "kernelspec": {
   "display_name": ".venv",
   "language": "python",
   "name": "python3"
  },
  "language_info": {
   "codemirror_mode": {
    "name": "ipython",
    "version": 3
   },
   "file_extension": ".py",
   "mimetype": "text/x-python",
   "name": "python",
   "nbconvert_exporter": "python",
   "pygments_lexer": "ipython3",
   "version": "3.11.5"
  }
 },
 "nbformat": 4,
 "nbformat_minor": 5
}

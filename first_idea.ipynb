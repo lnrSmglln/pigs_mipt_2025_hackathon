{
 "cells": [
  {
   "cell_type": "code",
   "execution_count": 1,
   "id": "d4d78587",
   "metadata": {},
   "outputs": [],
   "source": [
    "from data_loader import load_data\n",
    "X_train, y_train, test_ids = load_data('./data/')"
   ]
  },
  {
   "cell_type": "code",
   "execution_count": 2,
   "id": "4e3ac803",
   "metadata": {},
   "outputs": [
    {
     "name": "stdout",
     "output_type": "stream",
     "text": [
      "Extracting features...\n",
      "Cross-validation...\n"
     ]
    },
    {
     "name": "stderr",
     "output_type": "stream",
     "text": [
      "/Users/lnrsmglln/mipt_hackaton_2025/.venv/lib/python3.11/site-packages/xgboost/training.py:183: UserWarning: [11:50:30] WARNING: /Users/runner/work/xgboost/xgboost/src/learner.cc:738: \n",
      "Parameters: { \"use_label_encoder\" } are not used.\n",
      "\n",
      "  bst.update(dtrain, iteration=i, fobj=obj)\n",
      "/Users/lnrsmglln/mipt_hackaton_2025/.venv/lib/python3.11/site-packages/xgboost/training.py:183: UserWarning: [11:50:30] WARNING: /Users/runner/work/xgboost/xgboost/src/learner.cc:738: \n",
      "Parameters: { \"use_label_encoder\" } are not used.\n",
      "\n",
      "  bst.update(dtrain, iteration=i, fobj=obj)\n",
      "/Users/lnrsmglln/mipt_hackaton_2025/.venv/lib/python3.11/site-packages/xgboost/training.py:183: UserWarning: [11:50:30] WARNING: /Users/runner/work/xgboost/xgboost/src/learner.cc:738: \n",
      "Parameters: { \"use_label_encoder\" } are not used.\n",
      "\n",
      "  bst.update(dtrain, iteration=i, fobj=obj)\n",
      "/Users/lnrsmglln/mipt_hackaton_2025/.venv/lib/python3.11/site-packages/xgboost/training.py:183: UserWarning: [11:50:30] WARNING: /Users/runner/work/xgboost/xgboost/src/learner.cc:738: \n",
      "Parameters: { \"use_label_encoder\" } are not used.\n",
      "\n",
      "  bst.update(dtrain, iteration=i, fobj=obj)\n",
      "/Users/lnrsmglln/mipt_hackaton_2025/.venv/lib/python3.11/site-packages/xgboost/training.py:183: UserWarning: [11:50:31] WARNING: /Users/runner/work/xgboost/xgboost/src/learner.cc:738: \n",
      "Parameters: { \"use_label_encoder\" } are not used.\n",
      "\n",
      "  bst.update(dtrain, iteration=i, fobj=obj)\n",
      "/Users/lnrsmglln/mipt_hackaton_2025/.venv/lib/python3.11/site-packages/xgboost/training.py:183: UserWarning: [11:50:31] WARNING: /Users/runner/work/xgboost/xgboost/src/learner.cc:738: \n",
      "Parameters: { \"use_label_encoder\" } are not used.\n",
      "\n",
      "  bst.update(dtrain, iteration=i, fobj=obj)\n"
     ]
    },
    {
     "name": "stdout",
     "output_type": "stream",
     "text": [
      "Fold 1 AUC: 0.6374\n"
     ]
    },
    {
     "name": "stderr",
     "output_type": "stream",
     "text": [
      "/Users/lnrsmglln/mipt_hackaton_2025/.venv/lib/python3.11/site-packages/xgboost/training.py:183: UserWarning: [11:50:31] WARNING: /Users/runner/work/xgboost/xgboost/src/learner.cc:738: \n",
      "Parameters: { \"use_label_encoder\" } are not used.\n",
      "\n",
      "  bst.update(dtrain, iteration=i, fobj=obj)\n",
      "/Users/lnrsmglln/mipt_hackaton_2025/.venv/lib/python3.11/site-packages/xgboost/training.py:183: UserWarning: [11:50:31] WARNING: /Users/runner/work/xgboost/xgboost/src/learner.cc:738: \n",
      "Parameters: { \"use_label_encoder\" } are not used.\n",
      "\n",
      "  bst.update(dtrain, iteration=i, fobj=obj)\n",
      "/Users/lnrsmglln/mipt_hackaton_2025/.venv/lib/python3.11/site-packages/xgboost/training.py:183: UserWarning: [11:50:31] WARNING: /Users/runner/work/xgboost/xgboost/src/learner.cc:738: \n",
      "Parameters: { \"use_label_encoder\" } are not used.\n",
      "\n",
      "  bst.update(dtrain, iteration=i, fobj=obj)\n",
      "/Users/lnrsmglln/mipt_hackaton_2025/.venv/lib/python3.11/site-packages/xgboost/training.py:183: UserWarning: [11:50:31] WARNING: /Users/runner/work/xgboost/xgboost/src/learner.cc:738: \n",
      "Parameters: { \"use_label_encoder\" } are not used.\n",
      "\n",
      "  bst.update(dtrain, iteration=i, fobj=obj)\n",
      "/Users/lnrsmglln/mipt_hackaton_2025/.venv/lib/python3.11/site-packages/xgboost/training.py:183: UserWarning: [11:50:32] WARNING: /Users/runner/work/xgboost/xgboost/src/learner.cc:738: \n",
      "Parameters: { \"use_label_encoder\" } are not used.\n",
      "\n",
      "  bst.update(dtrain, iteration=i, fobj=obj)\n",
      "/Users/lnrsmglln/mipt_hackaton_2025/.venv/lib/python3.11/site-packages/xgboost/training.py:183: UserWarning: [11:50:32] WARNING: /Users/runner/work/xgboost/xgboost/src/learner.cc:738: \n",
      "Parameters: { \"use_label_encoder\" } are not used.\n",
      "\n",
      "  bst.update(dtrain, iteration=i, fobj=obj)\n"
     ]
    },
    {
     "name": "stdout",
     "output_type": "stream",
     "text": [
      "Fold 2 AUC: 0.6343\n"
     ]
    },
    {
     "name": "stderr",
     "output_type": "stream",
     "text": [
      "/Users/lnrsmglln/mipt_hackaton_2025/.venv/lib/python3.11/site-packages/xgboost/training.py:183: UserWarning: [11:50:32] WARNING: /Users/runner/work/xgboost/xgboost/src/learner.cc:738: \n",
      "Parameters: { \"use_label_encoder\" } are not used.\n",
      "\n",
      "  bst.update(dtrain, iteration=i, fobj=obj)\n",
      "/Users/lnrsmglln/mipt_hackaton_2025/.venv/lib/python3.11/site-packages/xgboost/training.py:183: UserWarning: [11:50:32] WARNING: /Users/runner/work/xgboost/xgboost/src/learner.cc:738: \n",
      "Parameters: { \"use_label_encoder\" } are not used.\n",
      "\n",
      "  bst.update(dtrain, iteration=i, fobj=obj)\n",
      "/Users/lnrsmglln/mipt_hackaton_2025/.venv/lib/python3.11/site-packages/xgboost/training.py:183: UserWarning: [11:50:32] WARNING: /Users/runner/work/xgboost/xgboost/src/learner.cc:738: \n",
      "Parameters: { \"use_label_encoder\" } are not used.\n",
      "\n",
      "  bst.update(dtrain, iteration=i, fobj=obj)\n",
      "/Users/lnrsmglln/mipt_hackaton_2025/.venv/lib/python3.11/site-packages/xgboost/training.py:183: UserWarning: [11:50:32] WARNING: /Users/runner/work/xgboost/xgboost/src/learner.cc:738: \n",
      "Parameters: { \"use_label_encoder\" } are not used.\n",
      "\n",
      "  bst.update(dtrain, iteration=i, fobj=obj)\n",
      "/Users/lnrsmglln/mipt_hackaton_2025/.venv/lib/python3.11/site-packages/xgboost/training.py:183: UserWarning: [11:50:33] WARNING: /Users/runner/work/xgboost/xgboost/src/learner.cc:738: \n",
      "Parameters: { \"use_label_encoder\" } are not used.\n",
      "\n",
      "  bst.update(dtrain, iteration=i, fobj=obj)\n",
      "/Users/lnrsmglln/mipt_hackaton_2025/.venv/lib/python3.11/site-packages/xgboost/training.py:183: UserWarning: [11:50:33] WARNING: /Users/runner/work/xgboost/xgboost/src/learner.cc:738: \n",
      "Parameters: { \"use_label_encoder\" } are not used.\n",
      "\n",
      "  bst.update(dtrain, iteration=i, fobj=obj)\n"
     ]
    },
    {
     "name": "stdout",
     "output_type": "stream",
     "text": [
      "Fold 3 AUC: 0.6320\n"
     ]
    },
    {
     "name": "stderr",
     "output_type": "stream",
     "text": [
      "/Users/lnrsmglln/mipt_hackaton_2025/.venv/lib/python3.11/site-packages/xgboost/training.py:183: UserWarning: [11:50:33] WARNING: /Users/runner/work/xgboost/xgboost/src/learner.cc:738: \n",
      "Parameters: { \"use_label_encoder\" } are not used.\n",
      "\n",
      "  bst.update(dtrain, iteration=i, fobj=obj)\n",
      "/Users/lnrsmglln/mipt_hackaton_2025/.venv/lib/python3.11/site-packages/xgboost/training.py:183: UserWarning: [11:50:33] WARNING: /Users/runner/work/xgboost/xgboost/src/learner.cc:738: \n",
      "Parameters: { \"use_label_encoder\" } are not used.\n",
      "\n",
      "  bst.update(dtrain, iteration=i, fobj=obj)\n",
      "/Users/lnrsmglln/mipt_hackaton_2025/.venv/lib/python3.11/site-packages/xgboost/training.py:183: UserWarning: [11:50:33] WARNING: /Users/runner/work/xgboost/xgboost/src/learner.cc:738: \n",
      "Parameters: { \"use_label_encoder\" } are not used.\n",
      "\n",
      "  bst.update(dtrain, iteration=i, fobj=obj)\n",
      "/Users/lnrsmglln/mipt_hackaton_2025/.venv/lib/python3.11/site-packages/xgboost/training.py:183: UserWarning: [11:50:33] WARNING: /Users/runner/work/xgboost/xgboost/src/learner.cc:738: \n",
      "Parameters: { \"use_label_encoder\" } are not used.\n",
      "\n",
      "  bst.update(dtrain, iteration=i, fobj=obj)\n",
      "/Users/lnrsmglln/mipt_hackaton_2025/.venv/lib/python3.11/site-packages/xgboost/training.py:183: UserWarning: [11:50:33] WARNING: /Users/runner/work/xgboost/xgboost/src/learner.cc:738: \n",
      "Parameters: { \"use_label_encoder\" } are not used.\n",
      "\n",
      "  bst.update(dtrain, iteration=i, fobj=obj)\n",
      "/Users/lnrsmglln/mipt_hackaton_2025/.venv/lib/python3.11/site-packages/xgboost/training.py:183: UserWarning: [11:50:34] WARNING: /Users/runner/work/xgboost/xgboost/src/learner.cc:738: \n",
      "Parameters: { \"use_label_encoder\" } are not used.\n",
      "\n",
      "  bst.update(dtrain, iteration=i, fobj=obj)\n"
     ]
    },
    {
     "name": "stdout",
     "output_type": "stream",
     "text": [
      "Fold 4 AUC: 0.5871\n"
     ]
    },
    {
     "name": "stderr",
     "output_type": "stream",
     "text": [
      "/Users/lnrsmglln/mipt_hackaton_2025/.venv/lib/python3.11/site-packages/xgboost/training.py:183: UserWarning: [11:50:34] WARNING: /Users/runner/work/xgboost/xgboost/src/learner.cc:738: \n",
      "Parameters: { \"use_label_encoder\" } are not used.\n",
      "\n",
      "  bst.update(dtrain, iteration=i, fobj=obj)\n",
      "/Users/lnrsmglln/mipt_hackaton_2025/.venv/lib/python3.11/site-packages/xgboost/training.py:183: UserWarning: [11:50:34] WARNING: /Users/runner/work/xgboost/xgboost/src/learner.cc:738: \n",
      "Parameters: { \"use_label_encoder\" } are not used.\n",
      "\n",
      "  bst.update(dtrain, iteration=i, fobj=obj)\n",
      "/Users/lnrsmglln/mipt_hackaton_2025/.venv/lib/python3.11/site-packages/xgboost/training.py:183: UserWarning: [11:50:34] WARNING: /Users/runner/work/xgboost/xgboost/src/learner.cc:738: \n",
      "Parameters: { \"use_label_encoder\" } are not used.\n",
      "\n",
      "  bst.update(dtrain, iteration=i, fobj=obj)\n",
      "/Users/lnrsmglln/mipt_hackaton_2025/.venv/lib/python3.11/site-packages/xgboost/training.py:183: UserWarning: [11:50:34] WARNING: /Users/runner/work/xgboost/xgboost/src/learner.cc:738: \n",
      "Parameters: { \"use_label_encoder\" } are not used.\n",
      "\n",
      "  bst.update(dtrain, iteration=i, fobj=obj)\n",
      "/Users/lnrsmglln/mipt_hackaton_2025/.venv/lib/python3.11/site-packages/xgboost/training.py:183: UserWarning: [11:50:34] WARNING: /Users/runner/work/xgboost/xgboost/src/learner.cc:738: \n",
      "Parameters: { \"use_label_encoder\" } are not used.\n",
      "\n",
      "  bst.update(dtrain, iteration=i, fobj=obj)\n",
      "/Users/lnrsmglln/mipt_hackaton_2025/.venv/lib/python3.11/site-packages/xgboost/training.py:183: UserWarning: [11:50:35] WARNING: /Users/runner/work/xgboost/xgboost/src/learner.cc:738: \n",
      "Parameters: { \"use_label_encoder\" } are not used.\n",
      "\n",
      "  bst.update(dtrain, iteration=i, fobj=obj)\n"
     ]
    },
    {
     "name": "stdout",
     "output_type": "stream",
     "text": [
      "Fold 5 AUC: 0.4752\n",
      "Mean CV AUC: 0.5932 ± 0.0618\n",
      "Training final model...\n"
     ]
    },
    {
     "name": "stderr",
     "output_type": "stream",
     "text": [
      "/Users/lnrsmglln/mipt_hackaton_2025/.venv/lib/python3.11/site-packages/xgboost/training.py:183: UserWarning: [11:50:35] WARNING: /Users/runner/work/xgboost/xgboost/src/learner.cc:738: \n",
      "Parameters: { \"use_label_encoder\" } are not used.\n",
      "\n",
      "  bst.update(dtrain, iteration=i, fobj=obj)\n",
      "/Users/lnrsmglln/mipt_hackaton_2025/.venv/lib/python3.11/site-packages/xgboost/training.py:183: UserWarning: [11:50:35] WARNING: /Users/runner/work/xgboost/xgboost/src/learner.cc:738: \n",
      "Parameters: { \"use_label_encoder\" } are not used.\n",
      "\n",
      "  bst.update(dtrain, iteration=i, fobj=obj)\n",
      "/Users/lnrsmglln/mipt_hackaton_2025/.venv/lib/python3.11/site-packages/xgboost/training.py:183: UserWarning: [11:50:35] WARNING: /Users/runner/work/xgboost/xgboost/src/learner.cc:738: \n",
      "Parameters: { \"use_label_encoder\" } are not used.\n",
      "\n",
      "  bst.update(dtrain, iteration=i, fobj=obj)\n",
      "/Users/lnrsmglln/mipt_hackaton_2025/.venv/lib/python3.11/site-packages/xgboost/training.py:183: UserWarning: [11:50:35] WARNING: /Users/runner/work/xgboost/xgboost/src/learner.cc:738: \n",
      "Parameters: { \"use_label_encoder\" } are not used.\n",
      "\n",
      "  bst.update(dtrain, iteration=i, fobj=obj)\n",
      "/Users/lnrsmglln/mipt_hackaton_2025/.venv/lib/python3.11/site-packages/xgboost/training.py:183: UserWarning: [11:50:35] WARNING: /Users/runner/work/xgboost/xgboost/src/learner.cc:738: \n",
      "Parameters: { \"use_label_encoder\" } are not used.\n",
      "\n",
      "  bst.update(dtrain, iteration=i, fobj=obj)\n",
      "/Users/lnrsmglln/mipt_hackaton_2025/.venv/lib/python3.11/site-packages/xgboost/training.py:183: UserWarning: [11:50:36] WARNING: /Users/runner/work/xgboost/xgboost/src/learner.cc:738: \n",
      "Parameters: { \"use_label_encoder\" } are not used.\n",
      "\n",
      "  bst.update(dtrain, iteration=i, fobj=obj)\n"
     ]
    },
    {
     "name": "stdout",
     "output_type": "stream",
     "text": [
      "Model saved to model/ldl_classifier.pkl\n"
     ]
    }
   ],
   "source": [
    "from model_trainer import train_and_save\n",
    "pipeline = train_and_save(X_train, y_train)"
   ]
  },
  {
   "cell_type": "code",
   "execution_count": 7,
   "id": "66101c3a",
   "metadata": {},
   "outputs": [
    {
     "name": "stdout",
     "output_type": "stream",
     "text": [
      "Submission saved to ./outputs/first_idea_submit.csv\n"
     ]
    }
   ],
   "source": [
    "from validate_submit import generate_submission\n",
    "generate_submission('model/ldl_classifier.pkl', './data', output_file='./outputs/first_idea_submit.csv')"
   ]
  },
  {
   "cell_type": "code",
   "execution_count": null,
   "id": "279dddb4",
   "metadata": {},
   "outputs": [],
   "source": []
  }
 ],
 "metadata": {
  "kernelspec": {
   "display_name": ".venv",
   "language": "python",
   "name": "python3"
  },
  "language_info": {
   "codemirror_mode": {
    "name": "ipython",
    "version": 3
   },
   "file_extension": ".py",
   "mimetype": "text/x-python",
   "name": "python",
   "nbconvert_exporter": "python",
   "pygments_lexer": "ipython3",
   "version": "3.11.5"
  }
 },
 "nbformat": 4,
 "nbformat_minor": 5
}

{
 "cells": [
  {
   "cell_type": "code",
   "execution_count": 1,
   "id": "d2ab6a96",
   "metadata": {},
   "outputs": [],
   "source": [
    "import pandas as pd\n",
    "from feature_extractor_new import extract_features"
   ]
  },
  {
   "cell_type": "code",
   "execution_count": 2,
   "id": "d4d78587",
   "metadata": {},
   "outputs": [],
   "source": [
    "from data_loader import load_data\n",
    "X_train, y_train, test_ids = load_data('./data/')"
   ]
  },
  {
   "cell_type": "code",
   "execution_count": 3,
   "id": "59610f1f",
   "metadata": {},
   "outputs": [],
   "source": [
    "# train_features = [extract_features(signal) for signal in X_train]\n",
    "# X = pd.DataFrame(train_features)"
   ]
  },
  {
   "cell_type": "code",
   "execution_count": 4,
   "id": "1abe139a",
   "metadata": {},
   "outputs": [],
   "source": [
    "# X"
   ]
  },
  {
   "cell_type": "code",
   "execution_count": 5,
   "id": "f44f00c5",
   "metadata": {},
   "outputs": [],
   "source": [
    "# Count NaN values per column\n",
    "# X.isna().sum()"
   ]
  },
  {
   "cell_type": "code",
   "execution_count": 6,
   "id": "af66b6fa",
   "metadata": {},
   "outputs": [
    {
     "data": {
      "text/plain": [
       "array([ 97, 106, 113, ..., 119, 117, 115], shape=(2700,))"
      ]
     },
     "execution_count": 6,
     "metadata": {},
     "output_type": "execute_result"
    }
   ],
   "source": [
    "X_train[0]"
   ]
  },
  {
   "cell_type": "code",
   "execution_count": 7,
   "id": "4e3ac803",
   "metadata": {},
   "outputs": [
    {
     "name": "stdout",
     "output_type": "stream",
     "text": [
      "Extracting features...\n",
      "Cross-validation...\n",
      "Fold 1 AUC: 0.6754\n",
      "Fold 2 AUC: 0.6397\n",
      "Fold 3 AUC: 0.5404\n",
      "Fold 4 AUC: 0.5482\n",
      "Fold 5 AUC: 0.4883\n",
      "Mean CV AUC: 0.5784 ± 0.0688\n",
      "Training final model...\n",
      "Model saved to model/ldl_classifier.pkl\n"
     ]
    }
   ],
   "source": [
    "from model_trainer import train_and_save\n",
    "pipeline = train_and_save(X_train, y_train)"
   ]
  },
  {
   "cell_type": "code",
   "execution_count": 8,
   "id": "66101c3a",
   "metadata": {},
   "outputs": [
    {
     "name": "stdout",
     "output_type": "stream",
     "text": [
      "Submission saved to ./outputs/first_idea_submit.csv\n"
     ]
    }
   ],
   "source": [
    "from validate_submit import generate_submission\n",
    "generate_submission('model/ldl_classifier.pkl', './data', output_file='./outputs/first_idea_submit.csv')"
   ]
  }
 ],
 "metadata": {
  "kernelspec": {
   "display_name": ".venv",
   "language": "python",
   "name": "python3"
  },
  "language_info": {
   "codemirror_mode": {
    "name": "ipython",
    "version": 3
   },
   "file_extension": ".py",
   "mimetype": "text/x-python",
   "name": "python",
   "nbconvert_exporter": "python",
   "pygments_lexer": "ipython3",
   "version": "3.11.5"
  }
 },
 "nbformat": 4,
 "nbformat_minor": 5
}
